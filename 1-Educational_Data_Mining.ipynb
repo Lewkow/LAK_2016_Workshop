{
 "cells": [
  {
   "cell_type": "markdown",
   "metadata": {},
   "source": [
    "![ML Logo](http://spark-mooc.github.io/web-assets/images/CS190.1x_Banner_300.png)\n",
    "# **Educational Data Mining Tutorial**\n",
    "#### This tutorial gives you skills to conduct exploratory data analysis using Python. For this purpose, we have used [HarvardX‐MITx\t  Person-Course Dataset](https://dataverse.harvard.edu/dataset.xhtml?persistentId=doi:10.7910/DVN/26147). You can find more information about this dataset from this [report](http://poseidon01.ssrn.com/delivery.php?ID=351084105114076095079002116123117074037024090008032052023105012111104097092003064011059012033058039112110023086123098093085109103046069078020027011097080106097003089018040028024088008085113078083106095087027121022070099103106071008108091006000003017065&EXT=pdf). Our goal is to demonstrate how to import and prepare data for predictive modeling using Python.\n",
    "#### ** This section will cover: **\n",
    "+  ####*Part 1:* Introduction\n",
    "+  ####*Part 2:* Read and parse the initial dataset\n",
    "+  ####*Part 3:* Data cleaning and preparation\n",
    "+  ####*Part 4:* Exploratory data analysis"
   ]
  },
  {
   "cell_type": "markdown",
   "metadata": {
    "slideshow": {
     "slide_type": "slide"
    }
   },
   "source": [
    "## What is predictive modeling?\n",
    "Analytical and statistical techniques using historical data to develop models to predict future events or behaviors\n",
    "\n",
    "\n",
    "## Example\n",
    "Moneyball where Billy Beans used predictive modelling to determine which players might be undervalued to enable them to compete with teams that have much more resources available.\n",
    "\n",
    "<img src=http://www.insightsquared.com/wp-content/uploads/2014/03/9780393338393_custom-155b6750c08f9ced4913d696ca6cf11650974b21-s6-c30.jpg width=200>\n",
    "\n",
    "## What is a predictive model?\n",
    "* Models are mathematical equations\n",
    "\n",
    "<img src=http://3.bp.blogspot.com/-N5Rl3a87jgE/UTNCaRNMl3I/AAAAAAAAAcs/nJZVjAEiR3g/s1600/multi+regression+equation.png width = 300>\n",
    "\n",
    "* Y is the variable to be predicted\n",
    "* X's represent variables in your dataset\n",
    "* B's are statistically estimated coefficients\n",
    "\n",
    "## Getting Started with Predictive Modeling\n",
    "\n",
    "* Establish goals and define specific questions\n",
    "* Brainstorm on possible data sources and collect data\n",
    "* Define outcome\n",
    "\n",
    "## Predictive Modeling Steps:\n",
    "* Acquiring data\n",
    "* Data cleaning and preparation\n",
    "* EDA (Exploratory Data Analysis) \n",
    "* Build a model\n",
    "* Evaluate\n",
    "\n",
    "## Know Thy Data\n",
    "* What each variable represents\n",
    "* When data is collected\n",
    "* Data preparation (80% of data modeling process)"
   ]
  },
  {
   "cell_type": "markdown",
   "metadata": {},
   "source": [
    "## Exercises\n",
    "\n",
    "Exercises are a part of the notebooks, to make it easy for you to put what you just learnt into practice and avoid long exercise time. \n",
    "\n",
    "The intructor will prompt you on how long you would have to do the exercise.\n",
    "\n",
    "Exercises come in form of fill in the blanks. Fill in the appropriate code for every instance of ```<fill in>``` using what you just learnt."
   ]
  },
  {
   "cell_type": "markdown",
   "metadata": {
    "slideshow": {
     "slide_type": "slide"
    }
   },
   "source": [
    "HarvardX‐MITx\t  Person-Course\t  dataset\n",
    "=========\n",
    "In the year from the fall of 2012 to the summer of 2013, the first 17 HarvardX and MITx\n",
    "courses launched on the edX platform. In that year, \n",
    "\n",
    "* 43,196 registrants earned certificates of completion\n",
    "* Another 35,937 registrants explored half or more of course content without certification\n",
    "* An additional 469,702 registrants viewed less than half of the content\n",
    "* And 292,852 registrants never engaged with the online content\n",
    "* In total, there were 841,687 registrations from 597,692 unique users across the first year of HarvardX and MITx courses\n",
    "\n",
    "You can download the dataset from  [HarvardX‐MITx\t  Person-Course Dataset](https://dataverse.harvard.edu/dataset.xhtml?persistentId=doi:10.7910/DVN/26147)."
   ]
  },
  {
   "cell_type": "markdown",
   "metadata": {
    "slideshow": {
     "slide_type": "slide"
    }
   },
   "source": [
    "## Establish goals and define specific questions\n",
    "Predict if a student learnt the course content:\n",
    "* Earned certificate\n",
    "* Completed the course\n",
    "\n",
    "\n",
    "## Qestions\n",
    "* What factors determine students compelting the course?\n",
    "* Can we predict if a student will earn a certificate?"
   ]
  },
  {
   "cell_type": "markdown",
   "metadata": {},
   "source": [
    "## Data exploration using Python\n",
    "\n",
    "Python has several packages that make data analysis and modeling easy. A Python package is simply a directory of Python module(s). A Python module is a Python source file, which can expose classes, functions and global variables.\n",
    "\n",
    "Pandas is a Python package providing fast, flexible, and expressive data structures designed to make working with “relational” or “labeled” data both easy and intuitive. \n",
    "\n",
    "NumPy is the fundamental package for scientific computing with Python. It contains among other things:\n",
    "\n",
    "* a powerful N-dimensional array object\n",
    "* sophisticated (broadcasting) functions\n",
    "* tools for integrating C/C++ and Fortran code\n",
    "* useful linear algebra, Fourier transform, and random number capabilities\n",
    "\n",
    "Pandas is built using Numpy functionalities. It is more intituive for working with data tables and requires less code to do similar operations compared to Numpy. Pandas well suited for many different kinds of data:\n",
    "\n",
    "* Tabular data with heterogeneously-typed columns, as in an SQL table or Excel spreadsheet\n",
    "* Ordered and unordered (not necessarily fixed-frequency) time series data.\n",
    "* Arbitrary matrix data (homogeneously typed or heterogeneous) with row and column labels\n",
    "* Any other form of observational / statistical data sets. The data actually need not be labeled at all to be placed into a pandas data structure"
   ]
  },
  {
   "cell_type": "code",
   "execution_count": null,
   "metadata": {
    "collapsed": false,
    "slideshow": {
     "slide_type": "slide"
    }
   },
   "outputs": [],
   "source": [
    "# It is convention to import Pandas with the alias pd and Numpy with the alias np\n",
    "import pandas as pd\n",
    "import numpy as np\n",
    "\n",
    "# import warnings library to ignore warnings\n",
    "import warnings\n",
    "warnings.filterwarnings('ignore')\n",
    "\n",
    "# Import data\n",
    "df = pd.read_csv('./HMXPC13_DI_v2_5-14-14.csv',  parse_dates=['start_time_DI','last_event_DI'])\n",
    "\n",
    "# Look at first 5 rows of data\n",
    "df.head()"
   ]
  },
  {
   "cell_type": "markdown",
   "metadata": {
    "slideshow": {
     "slide_type": "slide"
    }
   },
   "source": [
    "## Descriptive Statistics\n",
    "\n",
    "* For continuous variables, view minimum, maximum and average values to make sure the data makes sense and detect outliers in advance\n",
    "* For binary variables, clean vlues to 0 and 1 and get the average (percentage of 1s) to make sure it makes sense\n",
    "* For categorical variables, check percentages for each category and look for sparsely used categories, misspellings, and overlap\n"
   ]
  },
  {
   "cell_type": "code",
   "execution_count": null,
   "metadata": {
    "collapsed": false,
    "scrolled": true,
    "slideshow": {
     "slide_type": "slide"
    }
   },
   "outputs": [],
   "source": [
    "print \"Data types in the file:\"\n",
    "print(df.dtypes)"
   ]
  },
  {
   "cell_type": "code",
   "execution_count": null,
   "metadata": {
    "collapsed": false,
    "slideshow": {
     "slide_type": "slide"
    }
   },
   "outputs": [],
   "source": [
    "# View summary statistics\n",
    "print \"Summary of the input file:\"\n",
    "df.describe()"
   ]
  },
  {
   "cell_type": "markdown",
   "metadata": {
    "collapsed": true,
    "slideshow": {
     "slide_type": "slide"
    }
   },
   "source": [
    "## Findings from summary statistics:\n",
    "\n",
    "* Registered is only 1\n",
    "* Roles is all NaN\n",
    "* Binary columns: viewed, explored, certified  \n",
    "* Categorical columns: final_cc_cname_DI (country), LoE_DI (education), gender , incomplete_flag \n",
    "* Continus columns: YoB (age), grade (0-1), nevents (number of logins),ndays_act, nplay_video, nchapters, nforum_posts\n",
    "* Date: start_time_DI, last_event_DI\n",
    "\n",
    "We can use print, shape and nunique functions to show the unique number of courses and users in data:"
   ]
  },
  {
   "cell_type": "code",
   "execution_count": null,
   "metadata": {
    "collapsed": false,
    "slideshow": {
     "slide_type": "slide"
    }
   },
   "outputs": [],
   "source": [
    "print 'Number of records: ' + str(df.shape[0]) \n",
    "print 'Number of courses: ' + str(df.course_id.nunique())\n",
    "print 'Number of students: ' + str(df.userid_DI.nunique())"
   ]
  },
  {
   "cell_type": "markdown",
   "metadata": {
    "slideshow": {
     "slide_type": "slide"
    }
   },
   "source": [
    "Data Preparation\n",
    "========\n",
    "* Aggregating\n",
    "* Filtering\n",
    "* Merging or appending\n",
    "* Deduping\n",
    "* Transforming\n",
    "* Data cleansing\n",
    "* Missing values"
   ]
  },
  {
   "cell_type": "markdown",
   "metadata": {
    "slideshow": {
     "slide_type": "slide"
    }
   },
   "source": [
    "### Age"
   ]
  },
  {
   "cell_type": "code",
   "execution_count": null,
   "metadata": {
    "collapsed": false,
    "slideshow": {
     "slide_type": "slide"
    }
   },
   "outputs": [],
   "source": [
    "# Import Python's visualization library\n",
    "import matplotlib.pyplot as plt\n",
    "%matplotlib inline\n",
    "\n",
    "# Explore the histogram of year of birth\n",
    "df.YoB.hist(bins=60)\n",
    "plt.show()"
   ]
  },
  {
   "cell_type": "markdown",
   "metadata": {},
   "source": [
    "#### Since the data is for academic year 2013, we filter birth years larger than 2005, to keep students older than 8 years old."
   ]
  },
  {
   "cell_type": "code",
   "execution_count": null,
   "metadata": {
    "collapsed": false,
    "slideshow": {
     "slide_type": "slide"
    }
   },
   "outputs": [],
   "source": [
    "df2 = df[df.YoB<=2004]\n",
    "print str(df.shape[0]-df2.shape[0]) + ' records with YoB=0 were removed'\n",
    "print str(((df.shape[0]-df2.shape[0])*100)/df.shape[0]) + '% of records with YoB=0 were removed'\n",
    "df2.YoB.hist(bins=60)\n",
    "plt.show()"
   ]
  },
  {
   "cell_type": "markdown",
   "metadata": {},
   "source": [
    "#### It is more useful to transform date of birth to age."
   ]
  },
  {
   "cell_type": "code",
   "execution_count": null,
   "metadata": {
    "collapsed": false,
    "slideshow": {
     "slide_type": "slide"
    }
   },
   "outputs": [],
   "source": [
    "# Convert birth year into age\n",
    "df2['Age'] = df2['YoB'].apply(lambda x: 2012 - x)\n",
    "df2.Age.hist(bins=60)\n",
    "plt.xlabel('Age')\n",
    "plt.ylabel('Frequency')\n",
    "plt.show()"
   ]
  },
  {
   "cell_type": "markdown",
   "metadata": {
    "slideshow": {
     "slide_type": "slide"
    }
   },
   "source": [
    "### Country"
   ]
  },
  {
   "cell_type": "markdown",
   "metadata": {},
   "source": [
    "#### Aggregating data in Python can be done using 'groupby' function."
   ]
  },
  {
   "cell_type": "code",
   "execution_count": null,
   "metadata": {
    "collapsed": false,
    "slideshow": {
     "slide_type": "slide"
    }
   },
   "outputs": [],
   "source": [
    "# Count how many students per country\n",
    "country = pd.DataFrame({'Count' :df2.groupby('final_cc_cname_DI').size()}).sort('Count',ascending=False).reset_index()\n",
    "country.head()"
   ]
  },
  {
   "cell_type": "code",
   "execution_count": null,
   "metadata": {
    "collapsed": false
   },
   "outputs": [],
   "source": [
    "# plot count of students per country\n",
    "country.plot(x=\"final_cc_cname_DI\", y=\"Count\", kind=\"barh\", figsize = (6,8), legend=False)\n",
    "plt.ylabel('Countries')\n",
    "plt.xlabel('Frequency')\n",
    "plt.show()"
   ]
  },
  {
   "cell_type": "code",
   "execution_count": null,
   "metadata": {
    "collapsed": false,
    "slideshow": {
     "slide_type": "slide"
    }
   },
   "outputs": [],
   "source": [
    "# get unique values of countries\n",
    "country_list = df2.final_cc_cname_DI.unique()\n",
    "country_list"
   ]
  },
  {
   "cell_type": "code",
   "execution_count": null,
   "metadata": {
    "collapsed": false,
    "slideshow": {
     "slide_type": "fragment"
    }
   },
   "outputs": [],
   "source": [
    "# divide countries into English and non-English speaking\n",
    "english_speaking = ['United States','Australia','India','Canada'\n",
    "                    ,'United Kingdom', 'Nigeria']\n",
    "\n",
    "nonenglish_speaking = ['France', 'Unknown/Other', 'Mexico','Russian Federation', 'Other South Asia',\n",
    "       'Other North & Central Amer., Caribbean', 'Other Europe',\n",
    "       'Other Oceania', 'Japan', 'Other Africa', 'Colombia', 'Germany',\n",
    "       'Other Middle East/Central Asia', 'Poland', 'Indonesia',\n",
    "       'Other East Asia', 'Bangladesh', 'China',\n",
    "       'Ukraine', 'Spain', 'Greece', 'Pakistan', 'Brazil',\n",
    "       'Egypt', 'Other South America', 'Portugal', 'Philippines', 'Morocco']"
   ]
  },
  {
   "cell_type": "code",
   "execution_count": null,
   "metadata": {
    "collapsed": false
   },
   "outputs": [],
   "source": [
    "# check if the the country for each student is in list of english speaking\n",
    "df2['english_speaking'] = df2['final_cc_cname_DI'].apply(lambda x: 1 if x in str(english_speaking) else 0)\n",
    "df2.head()"
   ]
  },
  {
   "cell_type": "code",
   "execution_count": null,
   "metadata": {
    "collapsed": false,
    "scrolled": true
   },
   "outputs": [],
   "source": [
    "# Flah for US versus Non-US countries\n",
    "df2['Country_US'] = df2['final_cc_cname_DI'].apply(lambda x: 'United States' if x=='United States' else 'other')\n",
    "df2.head()"
   ]
  },
  {
   "cell_type": "markdown",
   "metadata": {
    "slideshow": {
     "slide_type": "subslide"
    }
   },
   "source": [
    "### Level of Education\n",
    "\n",
    "Fill in the appropriate code for every instance of ```<fill in>``` using Country section as an example."
   ]
  },
  {
   "cell_type": "code",
   "execution_count": null,
   "metadata": {
    "collapsed": false,
    "slideshow": {
     "slide_type": "fragment"
    }
   },
   "outputs": [],
   "source": [
    "# get unique values of education level\n",
    "\"\"\"<fill in>\"\"\"\n",
    "\n",
    "df2.LoE_DI.unique()"
   ]
  },
  {
   "cell_type": "code",
   "execution_count": null,
   "metadata": {
    "collapsed": false
   },
   "outputs": [],
   "source": [
    "# count how many NANs are in data and what precentage of data they represent\n",
    "print str(df2[df2.LoE_DI.isnull()].shape[0]) + ' records with LoE_DI=NAN'\n",
    "print str(df2[df2.LoE_DI.isnull()].shape[0]/df.shape[0]) + '% of records with LoE_DI=NAN'"
   ]
  },
  {
   "cell_type": "code",
   "execution_count": null,
   "metadata": {
    "collapsed": false
   },
   "outputs": [],
   "source": [
    "# replace LoE_DI=NAN with not available 'NA'\n",
    "df2['LoE_DI'] = df2['LoE_DI'].apply(lambda x: 'NA' if x==0 else x)\n",
    "df2.head()"
   ]
  },
  {
   "cell_type": "code",
   "execution_count": null,
   "metadata": {
    "collapsed": false,
    "scrolled": true,
    "slideshow": {
     "slide_type": "fragment"
    }
   },
   "outputs": [],
   "source": [
    "# Count how many students per education level, store results in a table called 'education'\n",
    "\"\"\"<education = fill in>\"\"\"\n",
    "\n",
    "# Show the first 5 rows of the created table\n",
    "\"\"\"<fill in>\"\"\""
   ]
  },
  {
   "cell_type": "code",
   "execution_count": null,
   "metadata": {
    "collapsed": false,
    "slideshow": {
     "slide_type": "fragment"
    }
   },
   "outputs": [],
   "source": [
    "# plot count of students per education level\n",
    "\"\"\"<fill in>\"\"\""
   ]
  },
  {
   "cell_type": "code",
   "execution_count": null,
   "metadata": {
    "collapsed": false
   },
   "outputs": [],
   "source": [
    "# create a mapping between values of education level and numbers\n",
    "df2['education'] = df2.LoE_DI.map({'Secondary':0, \"Bachelor's\":1, \"Master's\":2, 'NA':3, 'Doctorate':4,\n",
    "       'Less than Secondary':5})\n",
    "df2.head()"
   ]
  },
  {
   "cell_type": "code",
   "execution_count": null,
   "metadata": {
    "collapsed": false,
    "slideshow": {
     "slide_type": "fragment"
    }
   },
   "outputs": [],
   "source": [
    "# alternative way to create a mapping between values of education level and numbers\n",
    "new_map = dict(zip(df2.LoE_DI.unique(),range(len(df2.LoE_DI.unique()))))\n",
    "new_map"
   ]
  },
  {
   "cell_type": "code",
   "execution_count": null,
   "metadata": {
    "collapsed": false,
    "slideshow": {
     "slide_type": "fragment"
    }
   },
   "outputs": [],
   "source": [
    "df2['education'] = df2.LoE_DI.map(new_map)\n",
    "df2.head()"
   ]
  },
  {
   "cell_type": "markdown",
   "metadata": {
    "slideshow": {
     "slide_type": "subslide"
    }
   },
   "source": [
    "### Gender"
   ]
  },
  {
   "cell_type": "code",
   "execution_count": null,
   "metadata": {
    "collapsed": false,
    "slideshow": {
     "slide_type": "fragment"
    }
   },
   "outputs": [],
   "source": [
    "df2.gender.unique()"
   ]
  },
  {
   "cell_type": "code",
   "execution_count": null,
   "metadata": {
    "collapsed": false,
    "slideshow": {
     "slide_type": "fragment"
    }
   },
   "outputs": [],
   "source": [
    "gender = pd.DataFrame({'Count': df2.groupby('gender').size()}).sort('Count',ascending=False).reset_index()\n",
    "gender"
   ]
  },
  {
   "cell_type": "markdown",
   "metadata": {},
   "source": [
    "### Defining functions\n",
    "\n",
    "Functions in python are defined using the block keyword \"def\", followed with the function's name as the block's name. For example: def my_function(): print \"Hello From My Function!\" Execute Code. Functions may also receive arguments (variables passed from the caller to the function)."
   ]
  },
  {
   "cell_type": "code",
   "execution_count": null,
   "metadata": {
    "collapsed": false
   },
   "outputs": [],
   "source": [
    "def bar_plot(data, xcol, ycol, vert):\n",
    "    if vert == 0:\n",
    "        data.plot(x=xcol, y=ycol, kind=\"barh\", figsize = (4,6), legend=False)\n",
    "        plt.ylabel(xcol)\n",
    "        plt.xlabel(ycol)\n",
    "    elif vert == 1:\n",
    "        data.plot(x=xcol, y=ycol, kind=\"bar\", figsize = (6,4), legend=False)\n",
    "        plt.ylabel(ycol)\n",
    "        plt.xlabel(xcol)\n",
    "    plt.show()\n"
   ]
  },
  {
   "cell_type": "code",
   "execution_count": null,
   "metadata": {
    "collapsed": false,
    "slideshow": {
     "slide_type": "fragment"
    }
   },
   "outputs": [],
   "source": [
    "bar_plot(gender, 'gender', 'Count',1)"
   ]
  },
  {
   "cell_type": "code",
   "execution_count": null,
   "metadata": {
    "collapsed": false,
    "slideshow": {
     "slide_type": "fragment"
    }
   },
   "outputs": [],
   "source": [
    "# create a new variable genderC, mapping between values of gender and numbers using map function used in the previous section\n",
    "\"\"\"<fill in>\"\"\"\n",
    "\n",
    "# show the first five rows of the data to ensure your new variable is created\n",
    "\"\"\"<fill in>\"\"\""
   ]
  },
  {
   "cell_type": "markdown",
   "metadata": {
    "slideshow": {
     "slide_type": "subslide"
    }
   },
   "source": [
    "### Grade"
   ]
  },
  {
   "cell_type": "code",
   "execution_count": null,
   "metadata": {
    "collapsed": false,
    "slideshow": {
     "slide_type": "fragment"
    }
   },
   "outputs": [],
   "source": [
    "# Remove null grades\n",
    "df3 = df2[df2.grade<>' '] \n",
    "print str(df2.shape[0]-df3.shape[0]) + ' records with null grade were removed'\n",
    "print str(((df2.shape[0]-df3.shape[0])*100)/df.shape[0]) + '% of records with null grade were removed'"
   ]
  },
  {
   "cell_type": "code",
   "execution_count": null,
   "metadata": {
    "collapsed": true
   },
   "outputs": [],
   "source": [
    "df3['grade'] = df3['grade'].astype(float) "
   ]
  },
  {
   "cell_type": "code",
   "execution_count": null,
   "metadata": {
    "collapsed": false
   },
   "outputs": [],
   "source": [
    "# Plot the distribution of grades\n",
    "df3.grade.hist(bins=5)\n",
    "plt.xlabel('Grade')\n",
    "plt.ylabel('Frequency')\n",
    "plt.show()"
   ]
  },
  {
   "cell_type": "code",
   "execution_count": null,
   "metadata": {
    "collapsed": true
   },
   "outputs": [],
   "source": [
    "#lets group grades\n",
    "def gradeGroup(x):\n",
    "    y = 'NA'\n",
    "    if x > 0:\n",
    "        if (x<1):\n",
    "            y = 'A'\n",
    "        if (x<.9):\n",
    "            y = 'B'\n",
    "        if (x<.8):\n",
    "            y = 'C'\n",
    "        if (x<.7):\n",
    "            y = 'D'\n",
    "        if (x<.6):\n",
    "            y = 'F'\n",
    "    return y"
   ]
  },
  {
   "cell_type": "code",
   "execution_count": null,
   "metadata": {
    "collapsed": false
   },
   "outputs": [],
   "source": [
    "# Create a new variable for grade groups\n",
    "df3['gradeGroup'] = df3.grade.apply(lambda x: gradeGroup(x))\n",
    "df3.head()"
   ]
  },
  {
   "cell_type": "code",
   "execution_count": null,
   "metadata": {
    "collapsed": false
   },
   "outputs": [],
   "source": [
    "pd.DataFrame({'Count': df3.groupby('gradeGroup').size()})"
   ]
  },
  {
   "cell_type": "code",
   "execution_count": null,
   "metadata": {
    "collapsed": false
   },
   "outputs": [],
   "source": [
    "# Aggregate data by grade group\n",
    "gradeGroup = pd.DataFrame({'Count': df3.groupby('gradeGroup').size()}).reset_index().sort('gradeGroup',ascending=True).reset_index()\n",
    "\n",
    "# Plot the distribution of grades\n",
    "bar_plot(gradeGroup, 'gradeGroup', 'Count',1)"
   ]
  },
  {
   "cell_type": "markdown",
   "metadata": {},
   "source": [
    "### College Name"
   ]
  },
  {
   "cell_type": "code",
   "execution_count": null,
   "metadata": {
    "collapsed": false
   },
   "outputs": [],
   "source": [
    "# Find the college name from course_id column\n",
    "df3['college'] = df3['course_id'].apply(lambda x: x[:x.find('/')])\n",
    "df3.head()"
   ]
  },
  {
   "cell_type": "markdown",
   "metadata": {},
   "source": [
    "#### There are still some null values in the dataset. We can replace the nulls with 0 for next step."
   ]
  },
  {
   "cell_type": "code",
   "execution_count": null,
   "metadata": {
    "collapsed": true
   },
   "outputs": [],
   "source": [
    "df3 = df3.fillna(0)"
   ]
  },
  {
   "cell_type": "markdown",
   "metadata": {},
   "source": [
    "## Exploratory Data Analysis"
   ]
  },
  {
   "cell_type": "markdown",
   "metadata": {},
   "source": [
    "### Questions and hypothesis\n",
    "\n",
    "1. What factors determine whether or not students stay in the course or dropout?\n",
    "2. Do any of the interactions or demographic predict final completion of those who completed the course?\n",
    "3. What variations in course feature use (watching videos, active days, or chapters) are most associated with high grade in the course? And can we infer causal relationships?"
   ]
  },
  {
   "cell_type": "code",
   "execution_count": null,
   "metadata": {
    "collapsed": false
   },
   "outputs": [],
   "source": [
    "def featureSetEval(data , feature, vert):\n",
    "\n",
    "    digitize = pd.DataFrame({'count' : data.groupby(feature).size()}).reset_index()\n",
    "    digitize['myIndex'] = digitize.index\n",
    "    labels = digitize[feature].unique()\n",
    "    data = data.merge(digitize,on=[feature],how=\"inner\")\n",
    "    \n",
    "    \n",
    "    Course_Certified = pd.DataFrame({'count': data.groupby([\"certified\",'myIndex']).size()}).reset_index().sort(['myIndex', 'certified'],ascending=True)\n",
    "    analysis = Course_Certified.pivot(index='myIndex', columns='certified', values='count').reset_index()\n",
    "    analysis['0'] = (analysis[0.0]+analysis[1.0])/data.shape[0]\n",
    "    analysis['1'] = (analysis[1.0]/data.shape[0])\n",
    "    analysis['2'] = (analysis[1.0]/data.shape[0])/analysis['0']\n",
    "    analysis.drop(analysis.columns[[1,2]], axis=1, inplace=True)   \n",
    "    analysis.columns = [feature,'registered','certified','certifiedPercentage']\n",
    "    analysis = analysis.drop(feature,1)\n",
    "    \n",
    "    if vert == 0:\n",
    "        my_plot = analysis.plot(kind='barh',stacked=False,title=feature + \" versus course certified\", legend=False, figsize = (6,8) )\n",
    "        my_plot.set_xlabel(\"% of students\")\n",
    "        my_plot.set_ylabel(feature)\n",
    "    \n",
    "    elif vert ==1: \n",
    "        my_plot = analysis.plot(kind='bar',stacked=False,title=feature + \" versus course certified\", legend=False, figsize = (8,6))\n",
    "        my_plot.set_xlabel(feature)\n",
    "        my_plot.set_ylabel(\"% of students\")\n",
    "        \n",
    "    my_plot.set_xticklabels(labels)\n",
    "    plt.legend(['','Registered','Certified Absolute Percent','Certified Relative Percent'], bbox_to_anchor=(1.05, 1), loc=2, borderaxespad=0.,fancybox=True)\n",
    "\n",
    "    plt.show()"
   ]
  },
  {
   "cell_type": "code",
   "execution_count": null,
   "metadata": {
    "collapsed": false,
    "scrolled": true
   },
   "outputs": [],
   "source": [
    "featureSetEval(df3, 'Age' ,1)"
   ]
  },
  {
   "cell_type": "code",
   "execution_count": null,
   "metadata": {
    "collapsed": false
   },
   "outputs": [],
   "source": [
    "#lets group Age\n",
    "def ageGroup(x):\n",
    "    y = 'Other'\n",
    "    if (x>0):\n",
    "        if (x<65):\n",
    "            y = '55-64'\n",
    "        if (x<55):\n",
    "            y = '45-54'\n",
    "        if (x<45):\n",
    "            y = '35-44'\n",
    "        if (x<35):\n",
    "            y = '25-34'\n",
    "        if (x<25):\n",
    "            y = '0-24'\n",
    "    return y"
   ]
  },
  {
   "cell_type": "code",
   "execution_count": null,
   "metadata": {
    "collapsed": false
   },
   "outputs": [],
   "source": [
    "# Create a new attribute called 'ageGroup' using ageGroup function and lambda\n",
    "\"\"\"<fill in>\"\"\"\n",
    "\n",
    "# Plot absolate number of registrations, absolute and relative percentage of certified for each age group created above\n",
    "\"\"\"<fill in>\"\"\""
   ]
  },
  {
   "cell_type": "code",
   "execution_count": null,
   "metadata": {
    "collapsed": false
   },
   "outputs": [],
   "source": [
    "# Plot absolate number of registrations, absolute and relative percentage of certified for each country\n",
    "\"\"\"<fill in>\"\"\""
   ]
  },
  {
   "cell_type": "code",
   "execution_count": null,
   "metadata": {
    "collapsed": false
   },
   "outputs": [],
   "source": [
    "# Plot absolate number of registrations, absolute and relative percentage of certified for English-speaking countries\n",
    "\"\"\"<fill in>\"\"\""
   ]
  },
  {
   "cell_type": "code",
   "execution_count": null,
   "metadata": {
    "collapsed": false
   },
   "outputs": [],
   "source": [
    "# Plot absolate number of registrations, absolute and relative percentage of certified for US versus other countries\n",
    "\"\"\"<fill in>\"\"\""
   ]
  },
  {
   "cell_type": "code",
   "execution_count": null,
   "metadata": {
    "collapsed": false
   },
   "outputs": [],
   "source": [
    "# Explore data and discuss your findings\n",
    "\"\"\"<fill in>\"\"\""
   ]
  },
  {
   "cell_type": "markdown",
   "metadata": {
    "slideshow": {
     "slide_type": "subslide"
    }
   },
   "source": [
    "## Correlation matrix\n",
    "\n",
    "A correlation coefficient is a coefficient that illustrates a quantitative measure of some type of correlation and dependence, meaning statistical relationships between two or more random variables or observed data values.\n",
    "\n",
    "There are different measures available for calculating correlation coefficients. The most common measure is Pearson product-moment correlation coefficient, also known as r, or Pearson's r, a measure of the strength and direction of the linear relationship between two variables that is defined as the (sample) covariance of the variables divided by the product of their (sample) standard deviations:\n",
    "\n",
    "\n",
    "<img src=http://www.thinkcalculator.com/statistics/correlation-coefficient.jpg width=300>\n",
    "\n",
    "\n",
    "A correlation matrix is used to investigate the dependence between multiple variables at the same time. The result is a table containing the correlation coefficients between each variable and the others. "
   ]
  },
  {
   "cell_type": "code",
   "execution_count": null,
   "metadata": {
    "collapsed": false,
    "slideshow": {
     "slide_type": "fragment"
    }
   },
   "outputs": [],
   "source": [
    "corr = df3[['Age', 'nevents','ndays_act', 'nplay_video','grade']]\n",
    "corr.corr()"
   ]
  },
  {
   "cell_type": "code",
   "execution_count": null,
   "metadata": {
    "collapsed": false,
    "slideshow": {
     "slide_type": "fragment"
    }
   },
   "outputs": [],
   "source": [
    "#Correlation matrix plot\n",
    "_ = pd.scatter_matrix(corr.loc[:,'Age':'grade'], figsize=(12,8))"
   ]
  },
  {
   "cell_type": "code",
   "execution_count": null,
   "metadata": {
    "collapsed": true
   },
   "outputs": [],
   "source": [
    "# write data to csv for next section\n",
    "df3.to_csv('./data/cleaned_data.csv')"
   ]
  }
 ],
 "metadata": {
  "celltoolbar": "Slideshow",
  "kernelspec": {
   "display_name": "Python 2",
   "language": "python",
   "name": "python2"
  },
  "language_info": {
   "codemirror_mode": {
    "name": "ipython",
    "version": 2
   },
   "file_extension": ".py",
   "mimetype": "text/x-python",
   "name": "python",
   "nbconvert_exporter": "python",
   "pygments_lexer": "ipython2",
   "version": "2.7.11"
  }
 },
 "nbformat": 4,
 "nbformat_minor": 0
}
